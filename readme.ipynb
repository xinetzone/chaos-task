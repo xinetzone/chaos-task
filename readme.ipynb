{
 "cells": [
  {
   "cell_type": "markdown",
   "metadata": {},
   "source": [
    "# Tips\n",
    "\n",
    "For programming questions, if you want to use the free computing power offered by Colab, you can upload the notebook and work on it using Colab. Once you've all the results in the notebook, you can download it and replace your local version with it.\n",
    "\n",
    "For theory questions, you are encouraged to write your solution using LaTeX in the notebook.\n",
    "However, if you want, you can also write your solutions in another file, and then use the `show_file` function provided in `util.py`.\n",
    "You can run the following code to import the `show_file` function.\n",
    "If you use such files, please add them to the `supplements` folder."
   ]
  },
  {
   "cell_type": "code",
   "execution_count": null,
   "metadata": {},
   "outputs": [],
   "source": [
    "from util import *"
   ]
  },
  {
   "cell_type": "markdown",
   "metadata": {},
   "source": [
    "In case the `show_file` function doesn't show your images correctly, you can also use HTML command to display images in your notebooks. For example, if you've an image `supplements/Q1-sol.png`, you can also include it by running this HTML command `<img src='supplements/Q1-sol.png'>` in a text cell."
   ]
  },
  {
   "cell_type": "markdown",
   "metadata": {},
   "source": [
    "# Submitting your solution\n",
    "\n",
    "Once you are ready to submit your solution, run the code below to create `A2-sol.zip` for submission."
   ]
  },
  {
   "cell_type": "code",
   "execution_count": null,
   "metadata": {},
   "outputs": [],
   "source": [
    "from util import *\n",
    "zip_sol()"
   ]
  },
  {
   "cell_type": "markdown",
   "metadata": {},
   "source": [
    "Voila! You're ready to submit `A2-sol.zip` on Blackboard."
   ]
  }
 ],
 "metadata": {
  "hide_input": false,
  "kernelspec": {
   "display_name": "Python 3",
   "language": "python",
   "name": "python3"
  },
  "language_info": {
   "codemirror_mode": {
    "name": "ipython",
    "version": 3
   },
   "file_extension": ".py",
   "mimetype": "text/x-python",
   "name": "python",
   "nbconvert_exporter": "python",
   "pygments_lexer": "ipython3",
   "version": "3.6.9"
  }
 },
 "nbformat": 4,
 "nbformat_minor": 4
}
