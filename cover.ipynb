{
 "cells": [
  {
   "cell_type": "markdown",
   "metadata": {
    "id": "joTz10PJRPwN"
   },
   "source": [
    "<center>\n",
    "    <H1>STAT3007 Deep Learning, Assignment 2</H1>\n",
    "    <b>2021 Semester 1, due 5pm on 1 Apr</b>\n",
    "</center>\n",
    "\n",
    "**Instructions**. Please read the instructions carefully --- not following them may result in a\n",
    "penalty.\n",
    "\n",
    "(a) Write down your name and student number below.\n",
    "\n",
    "**Name**: [Your name]\n",
    "<br>\n",
    "**Student Number**: [Your student number]\n",
    "\n",
    "(b) There are 4 questions. \n",
    "Provide your answers (text/code/output) in the cells marked with **Answer** in `Q1.ipynb` to `Q4.ipynb`. Avoid excessive output (e.g. debugging messages). Constantly save your work. Make sure that we can reproduce your answers by running your notebooks. You may find the `Tips` section in `readme.ipynb` helpful for completing the assignment.\n",
    "\n",
    "(c) When you finish your assignment, follow the submission instructions in `readme.ipynb` to create a zip file.\n",
    "Log on to Blackboard, go to Assessment, Assignment 2 to submit the zip file.\n",
    "You can submit as many times as you want before the deadline.\n",
    "The last submission will be graded.\n",
    "\n",
    "(d) Follow integrity rules, and provide citations as needed.\n",
    "You can discuss with your classmates, but you are required to write your\n",
    "solutions independently, and specify who you have discussed with in your\n",
    "solution.\n",
    "If you do not know how to solve a problem, you can get 15\\% of the mark by\n",
    "writing down \"I don't know\"."
   ]
  }
 ],
 "metadata": {
  "colab": {
   "name": "Untitled2.ipynb",
   "provenance": []
  },
  "hide_input": false,
  "kernelspec": {
   "display_name": "Python 3",
   "language": "python",
   "name": "python3"
  },
  "language_info": {
   "codemirror_mode": {
    "name": "ipython",
    "version": 3
   },
   "file_extension": ".py",
   "mimetype": "text/x-python",
   "name": "python",
   "nbconvert_exporter": "python",
   "pygments_lexer": "ipython3",
   "version": "3.6.9"
  }
 },
 "nbformat": 4,
 "nbformat_minor": 4
}
