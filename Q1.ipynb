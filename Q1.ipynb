{
 "cells": [
  {
   "cell_type": "markdown",
   "metadata": {},
   "source": [
    "# Q1. Perceptrons (15 marks)\n",
    "\n",
    "<b>In this question, we examine the representational power of the perceptron.<b>\n",
    "    \n",
    "<b>Consider a function $f(x_{1}, x_{2}, x_{3})$ for three binary variables\n",
    "$x_{1}, x_{2}, x_{3} \\in \\{0, 1\\}$, with the function taking value -1 or 1.\n",
    "The function can be specified using the set of examples \n",
    "$D = \\{(\\mathbf{x}_{1}, y_{1}), \\ldots, (\\mathbf{x}_{8}, y_{8})\\}$,\n",
    "where $\\mathbf{x}_{1}, \\ldots, \\mathbf{x}_{8}$ are the 8 input configurations for the \n",
    "three binary variables, and each $y_{i} = f(\\mathbf{x}_{i})$.\n",
    "Now augment each input vector in $D$ with a constant variable 1.</b>\n",
    "\n",
    "<b>\n",
    "We say that the perceptron algorithm learns the function $f$ if the perceptron\n",
    "algorithm converges on the training set $D$, and the model at convergence\n",
    "gives exactly the same input-output relationship as $f$.</b>\n",
    "\n",
    "<b>\n",
    "For each of the two functions below, does the perceptron algorithm learn it? \n",
    "Justify your answer.\n",
    "If your answer is yes, derive an upper bound on the number of mistakes that the perceptron algorithm makes before convergence, when the initial parameters are 0.</b>"
   ]
  },
  {
   "cell_type": "markdown",
   "metadata": {},
   "source": [
    "<b>(a) (5 marks)\n",
    "The XOR function for three binary variables \n",
    "$x_{1}, x_{2}, x_{3} \\in \\{0, 1\\}$ takes value 1 if an odd number of the \n",
    "variables are 1, and value -1 if an even number of the variables are 1.</b>"
   ]
  },
  {
   "cell_type": "markdown",
   "metadata": {},
   "source": [
    "**Answer**. [Write your solution here. Add cells as needed.]"
   ]
  },
  {
   "cell_type": "markdown",
   "metadata": {},
   "source": [
    "<b>(b) (10 marks)\n",
    "The function\n",
    "$f(x_{1}, x_{2}, x_{3}) \n",
    "= \\begin{cases}\n",
    "1 & \\text{if $(x_{1} \\wedge x_{2}) \\vee (x_{2} \\wedge x_{3}) \\vee (x_{3} \\wedge x_{1})$}, \\\\\n",
    "-1 & \\text{otherwise}.\n",
    "\\end{cases}$,\n",
    "where\n",
    "$x_{1}, x_{2}, x_{3} \\in \\{0, 1\\}$, and $\\wedge$ is the logical\n",
    "and, and $\\vee$ is the logical or.</b>"
   ]
  },
  {
   "cell_type": "markdown",
   "metadata": {},
   "source": [
    "**Answer**. [Write your solution here. Add cells as needed.]"
   ]
  }
 ],
 "metadata": {
  "hide_input": false,
  "kernelspec": {
   "display_name": "Python 3",
   "language": "python",
   "name": "python3"
  },
  "language_info": {
   "codemirror_mode": {
    "name": "ipython",
    "version": 3
   },
   "file_extension": ".py",
   "mimetype": "text/x-python",
   "name": "python",
   "nbconvert_exporter": "python",
   "pygments_lexer": "ipython3",
   "version": "3.6.9"
  }
 },
 "nbformat": 4,
 "nbformat_minor": 4
}
