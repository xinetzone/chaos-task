{
 "cells": [
  {
   "cell_type": "code",
   "execution_count": 1,
   "id": "prerequisite-islam",
   "metadata": {
    "ExecuteTime": {
     "end_time": "2021-04-01T00:36:13.552830Z",
     "start_time": "2021-04-01T00:36:13.337926Z"
    }
   },
   "outputs": [],
   "source": [
    "import numpy as np\n",
    "\n",
    "\n",
    "def w(y):\n",
    "    z = y @ y.T\n",
    "    z -= np.diag(np.diag(z))\n",
    "    return z\n",
    "\n",
    "\n",
    "def binary_image(x):\n",
    "    neg = x < x.mean()\n",
    "    neg = - neg.astype('int')\n",
    "    pos = x >= x.mean()\n",
    "    pos = pos.astype('int')\n",
    "    return neg + pos\n",
    "\n",
    "\n",
    "def update(W, c):\n",
    "    c = W @ c\n",
    "    c = -(c < 0).astype('int') + (c >= 0).astype('int')\n",
    "    return c"
   ]
  },
  {
   "cell_type": "code",
   "execution_count": 2,
   "id": "public-battle",
   "metadata": {
    "ExecuteTime": {
     "end_time": "2021-04-01T00:36:13.582816Z",
     "start_time": "2021-04-01T00:36:13.555829Z"
    }
   },
   "outputs": [
    {
     "data": {
      "text/plain": [
       "array([[ 0, -1, -1,  1, -1],\n",
       "       [-1,  0,  1, -1,  1],\n",
       "       [-1,  1,  0, -1,  1],\n",
       "       [ 1, -1, -1,  0, -1],\n",
       "       [-1,  1,  1, -1,  0]])"
      ]
     },
     "execution_count": 2,
     "metadata": {},
     "output_type": "execute_result"
    }
   ],
   "source": [
    "a1 = np.array([-1, 1, 1, -1, 1]).reshape(-1, 1)\n",
    "\n",
    "W = w(a1)\n",
    "W"
   ]
  },
  {
   "cell_type": "code",
   "execution_count": 3,
   "id": "meaningful-moderator",
   "metadata": {
    "ExecuteTime": {
     "end_time": "2021-04-01T00:36:13.597811Z",
     "start_time": "2021-04-01T00:36:13.584816Z"
    },
    "scrolled": false
   },
   "outputs": [
    {
     "data": {
      "text/plain": [
       "array([[ 0, -2,  0,  0,  0],\n",
       "       [-2,  0,  0,  0,  0],\n",
       "       [ 0,  0,  0, -2,  2],\n",
       "       [ 0,  0, -2,  0, -2],\n",
       "       [ 0,  0,  2, -2,  0]])"
      ]
     },
     "execution_count": 3,
     "metadata": {},
     "output_type": "execute_result"
    }
   ],
   "source": [
    "a1 = np.array([-1, 1, 1, -1, 1]).reshape(-1, 1)\n",
    "a2 = np.array([1, -1, 1, -1, 1]).reshape(-1, 1)\n",
    "\n",
    "W = sum(w(y) for y in [a1, a2])\n",
    "W"
   ]
  },
  {
   "cell_type": "markdown",
   "id": "massive-wichita",
   "metadata": {},
   "source": [
    "## Semi-random update"
   ]
  },
  {
   "cell_type": "code",
   "execution_count": 4,
   "id": "eight-corpus",
   "metadata": {
    "ExecuteTime": {
     "end_time": "2021-04-01T00:36:13.612804Z",
     "start_time": "2021-04-01T00:36:13.599810Z"
    },
    "scrolled": true
   },
   "outputs": [
    {
     "name": "stdout",
     "output_type": "stream",
     "text": [
      "[0]\n",
      "a3 [1. 1. 1. 1. 1.]\n",
      "a1 [-1.  1.  1.  1.  1.]\n",
      "a5 [-1.  1.  1.  1.  1.]\n",
      "a2 [-1.  1.  1.  1.  1.]\n",
      "a4 [-1.  1.  1. -1.  1.]\n",
      "[0]\n"
     ]
    }
   ],
   "source": [
    "c = np.ones((len(W), 1))\n",
    "\n",
    "while 1:\n",
    "    change_c = c\n",
    "    print(sum(change_c != c))\n",
    "    for k in [2, 0, 4, 1, 3]:\n",
    "        c[k] = update(W[k], c)\n",
    "        print(f\"a{k+1}\", c.flatten())\n",
    "    print(sum(change_c != c))\n",
    "    if sum(change_c != c) == 0:\n",
    "        break"
   ]
  },
  {
   "cell_type": "code",
   "execution_count": null,
   "id": "floppy-cookbook",
   "metadata": {},
   "outputs": [],
   "source": []
  }
 ],
 "metadata": {
  "kernelspec": {
   "display_name": "torch",
   "language": "python",
   "name": "torch"
  },
  "language_info": {
   "codemirror_mode": {
    "name": "ipython",
    "version": 3
   },
   "file_extension": ".py",
   "mimetype": "text/x-python",
   "name": "python",
   "nbconvert_exporter": "python",
   "pygments_lexer": "ipython3",
   "version": "3.8.0"
  },
  "toc": {
   "base_numbering": 1,
   "nav_menu": {},
   "number_sections": true,
   "sideBar": true,
   "skip_h1_title": false,
   "title_cell": "Table of Contents",
   "title_sidebar": "Contents",
   "toc_cell": false,
   "toc_position": {},
   "toc_section_display": true,
   "toc_window_display": false
  }
 },
 "nbformat": 4,
 "nbformat_minor": 5
}
